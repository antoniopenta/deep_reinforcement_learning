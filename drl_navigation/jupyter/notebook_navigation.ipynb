{
 "cells": [
  {
   "cell_type": "markdown",
   "metadata": {},
   "source": [
    "## Navigation Project"
   ]
  },
  {
   "cell_type": "markdown",
   "metadata": {
    "collapsed": true
   },
   "source": [
    "![](https://user-images.githubusercontent.com/10624937/42135619-d90f2f28-7d12-11e8-8823-82b970a54d7e.gif)\n",
    "\n",
    "- More info about the purpose of the project can be read here : [Udacity Project link](https://github.com/udacity/deep-reinforcement-learning/tree/master/p1_navigation)\n",
    "\n",
    "\n",
    "## Prerequisites\n",
    "\n",
    "- Create a python env as described here: https://github.com/udacity/deep-reinforcement-learning/tree/master/python\n",
    "\n",
    "- Download the project structure here : [github](https://github.com/antoniopenta/deep_reinforcement_learning/tree/master/drl_navigation) \n",
    "\n",
    "- You need to download the unity env Banana at the following link (Mac) and save it (unzipped) in the env folder of the main project:  https://s3-us-west-1.amazonaws.com/udacity-drlnd/P1/Banana/VisualBanana.app.zip\n",
    " \n"
   ]
  },
  {
   "cell_type": "markdown",
   "metadata": {},
   "source": [
    "## Project Structure\n",
    "\n",
    "- The project has these foldes:\n",
    "    - **data**: it contains data that are created during the execution\n",
    "    - **framework**: it contain the code for the agents and the network for learning the Q function\n",
    "    - **env**: where the unity env is store\n",
    "    - **model**: where the checkpoint for the network is saved\n",
    "    - **jupyter**: where the notebook with the explanation is store\n",
    "    \n",
    "     "
   ]
  },
  {
   "cell_type": "markdown",
   "metadata": {},
   "source": [
    "## Scripts to Run \n",
    "\n",
    "- There are two main scripts in the main foler:\n",
    "    - main_script_dq_test.py, which is used to see the agent in action loading the weights of the network that have been learned during the train\n",
    "    - main_script_dq_train.py, which is used to train the agent\n",
    "  \n",
    "    \n",
    "    "
   ]
  },
  {
   "cell_type": "markdown",
   "metadata": {},
   "source": [
    "- Example of output when you run the main_script_dq_train.py :\n",
    "\n",
    "```sh\n",
    "INFO:unityagents:\n",
    "'Academy' started successfully!\n",
    "Unity Academy name: Academy\n",
    "        Number of Brains: 1\n",
    "        Number of External Brains : 1\n",
    "        Lesson number : 0\n",
    "        Reset Parameters :\n",
    "\t\t\n",
    "Unity brain name: BananaBrain\n",
    "        Number of Visual Observations (per agent): 0\n",
    "        Vector Observation space type: continuous\n",
    "        Vector Observation space size (per agent): 37\n",
    "        Number of stacked Vector Observation: 1\n",
    "        Vector Action space type: discrete\n",
    "        Vector Action space size (per agent): 4\n",
    "        Vector Action descriptions: , , , \n",
    "Number of agents: 1\n",
    "Number of actions: 4\n",
    "States look like: [0.         1.         0.         0.         0.16895212 0.\n",
    " 1.         0.         0.         0.20073597 1.         0.\n",
    " 0.         0.         0.12865657 0.         1.         0.\n",
    " 0.         0.14938059 1.         0.         0.         0.\n",
    " 0.58185619 0.         1.         0.         0.         0.16089135\n",
    " 0.         1.         0.         0.         0.31775284 0.\n",
    " 0.        ]\n",
    "States have length: 37\n",
    "Episode 100\tAverage Score: 0.95\n",
    "\n",
    "----------------------------------------------------------------------------------------------------\n",
    "Episode 100\tAverage Score: 0.95\n",
    "Episode 100\tAverage Eps: 0.61\n",
    "Episode 100\tAction Distribution turn right : 0.15\n",
    "Episode 100\tAction Distribution turn left : 0.20\n",
    "Episode 100\tAction Distribution move forward : 0.46\n",
    "Episode 100\tAction Distribution move backward : 0.19\n",
    "----------------------------------------------------------------------------------------------------\n",
    "Episode 200\tAverage Score: 4.81\n",
    "\n",
    "----------------------------------------------------------------------------------------------------\n",
    "Episode 200\tAverage Score: 4.81\n",
    "Episode 200\tAverage Eps: 0.37\n",
    "Episode 200\tAction Distribution turn right : 0.31\n",
    "Episode 200\tAction Distribution move forward : 0.34\n",
    "Episode 200\tAction Distribution turn left : 0.17\n",
    "Episode 200\tAction Distribution move backward : 0.18\n",
    "----------------------------------------------------------------------------------------------------\n",
    "Episode 300\tAverage Score: 8.41\n",
    "\n",
    "----------------------------------------------------------------------------------------------------\n",
    "Episode 300\tAverage Score: 8.41\n",
    "Episode 300\tAverage Eps: 0.22\n",
    "Episode 300\tAction Distribution move forward : 0.44\n",
    "Episode 300\tAction Distribution turn left : 0.24\n",
    "Episode 300\tAction Distribution move backward : 0.19\n",
    "Episode 300\tAction Distribution turn right : 0.13\n",
    "----------------------------------------------------------------------------------------------------\n",
    "Episode 400\tAverage Score: 10.10\n",
    "\n",
    "----------------------------------------------------------------------------------------------------\n",
    "Episode 400\tAverage Score: 10.10\n",
    "Episode 400\tAverage Eps: 0.14\n",
    "Episode 400\tAction Distribution move forward : 0.58\n",
    "Episode 400\tAction Distribution turn left : 0.17\n",
    "Episode 400\tAction Distribution turn right : 0.23\n",
    "Episode 400\tAction Distribution move backward : 0.02\n",
    "----------------------------------------------------------------------------------------------------\n",
    "Episode 500\tAverage Score: 12.43\n",
    "\n",
    "----------------------------------------------------------------------------------------------------\n",
    "Episode 500\tAverage Score: 12.43\n",
    "Episode 500\tAverage Eps: 0.08\n",
    "Episode 500\tAction Distribution move forward : 0.70\n",
    "Episode 500\tAction Distribution move backward : 0.02\n",
    "Episode 500\tAction Distribution turn left : 0.14\n",
    "Episode 500\tAction Distribution turn right : 0.14\n",
    "----------------------------------------------------------------------------------------------------\n",
    "Episode 600\tAverage Score: 13.94\n",
    "\n",
    "----------------------------------------------------------------------------------------------------\n",
    "Episode 600\tAverage Score: 13.94\n",
    "Episode 600\tAverage Eps: 0.05\n",
    "Episode 600\tAction Distribution turn left : 0.26\n",
    "Episode 600\tAction Distribution move forward : 0.49\n",
    "Episode 600\tAction Distribution turn right : 0.25\n",
    "----------------------------------------------------------------------------------------------------\n",
    "Episode 657\tAverage Score: 15.05\n",
    "Environment solved in 557 episodes!\tAverage Score: 15.05\n",
    "\n",
    "Process finished with exit code 0\n",
    "\n",
    "```"
   ]
  },
  {
   "cell_type": "markdown",
   "metadata": {},
   "source": [
    "## Algorithm Explanation\n",
    "\n",
    "- The agent implement the DeepQ-Learning approach with a Reply Buffer mechanism.\n",
    "- The code is similar to the one provided by the exercise.\n",
    "- The agent is trained with ADAM, which is a variant of stochastic gradient descent which includes momentum and in general trains faster than your basic SGD.\n",
    "\n"
   ]
  },
  {
   "cell_type": "markdown",
   "metadata": {},
   "source": [
    "## Algorithm Seettings"
   ]
  },
  {
   "cell_type": "code",
   "execution_count": 14,
   "metadata": {},
   "outputs": [],
   "source": [
    "#HyperParemeter  for the agent:\n",
    "\n",
    "BUFFER_SIZE = int(1e5)  # replay buffer size\n",
    "BATCH_SIZE = 64         # minibatch size\n",
    "GAMMA = 0.99            # discount factor\n",
    "TAU = 1e-3              # for soft update of target parameters\n",
    "LR = 5e-4               # learning rate \n",
    "UPDATE_EVERY = 4        # how often to update the network\n",
    "\n"
   ]
  },
  {
   "cell_type": "code",
   "execution_count": 15,
   "metadata": {},
   "outputs": [],
   "source": [
    "#HyperParemeter  for the dqlearning algorithm \n",
    "# n_episodes (int): maximum number of training episodes\n",
    "# max_t (int): maximum number of timesteps per episode\n",
    "# eps_start (float): starting value of epsilon, for epsilon-greedy action selection\n",
    "# eps_end (float): minimum value of epsilon\n",
    "# eps_decay (float): multiplicative factor (per episode) for decreasing epsilon\n",
    "# max_score (float): that target score that we would like to reach, the benchmark is 15 in 1700 episode\n",
    "\n",
    "n_episodes = 2000\n",
    "max_t = 1000\n",
    "eps_start = 1.0\n",
    "eps_end = 0.001\n",
    "eps_decay = 0.995\n",
    "max_score = 15"
   ]
  },
  {
   "cell_type": "markdown",
   "metadata": {},
   "source": [
    "- I have target a max score of 15 within 2000 episodes as suggested by the picture in the benchmark explantion"
   ]
  },
  {
   "cell_type": "markdown",
   "metadata": {},
   "source": [
    "## Algorithm Results"
   ]
  },
  {
   "cell_type": "code",
   "execution_count": 16,
   "metadata": {},
   "outputs": [
    {
     "data": {
      "image/png": "[encoded data removed]",
      "text/plain": [
       "<Figure size 432x288 with 1 Axes>"
      ]
     },
     "metadata": {
      "needs_background": "light"
     },
     "output_type": "display_data"
    }
   ],
   "source": [
    "import numpy as np\n",
    "import matplotlib.pyplot as plt\n",
    "%matplotlib inline\n",
    "#i load only the first run scores, \n",
    "path_scores = '../data/scores_1.txt'\n",
    "with open(path_scores) as f:\n",
    "    array_scores = np.array([float(item) for item in f.readlines()])\n",
    "# plot the scores\n",
    "fig = plt.figure()\n",
    "ax = fig.add_subplot(111)\n",
    "plt.plot(np.arange(len(array_scores)), array_scores)\n",
    "plt.ylabel('Score')\n",
    "plt.xlabel('Episode #')\n",
    "plt.show()"
   ]
  },
  {
   "cell_type": "markdown",
   "metadata": {},
   "source": [
    "The above results have been obtained using the model stored in the model folder named : **checkpoint_1.pth**"
   ]
  },
  {
   "cell_type": "code",
   "execution_count": 17,
   "metadata": {},
   "outputs": [],
   "source": [
    "## Analysis and new Exploration"
   ]
  },
  {
   "cell_type": "markdown",
   "metadata": {},
   "source": [
    "- For 3 runs, I have observed the following distribution of actions, and the related increment score, which is the incremenet/descrement of the average score respect to thre previou session"
   ]
  },
  {
   "cell_type": "markdown",
   "metadata": {},
   "source": [
    "| run | episode_num | avg_eps     | average_score | move forward | move backward | turn left | turn right | increment score |\n",
    "|-----|-------------|-------------|---------------|--------------|---------------|-----------|------------|-----------------|\n",
    "| 1   | 100         | 0.608814509 | 1.04          | 0.38         | 0.28          | 0.15      | 0.19       |                 |\n",
    "| 1   | 200         | 0.368801831 | 4.55          | 0.39         | 0.15          | 0.25      | 0.21       | 3.375           |\n",
    "| 1   | 300         | 0.223409246 | 8.13          | 0.43         | 0.06          | 0.25      | 0.26       | 0.786813187     |\n",
    "| 1   | 400         | 0.135334717 | 11.18         | 0.06         | 0.04          | **0.44**      | **0.46**       | 0.375153752     |\n",
    "| 1   | 500         | 0.08198177  | 13.64         | **0.54**         | 0.02          | 0.25      | 0.19       | 0.220035778     |\n",
    "| 1   | 600         | 0.049662133 | 14.27         | **0.7**          | 0.01          | 0.17      | 0.12       | 0.046187683     |\n",
    "| 1   | 700         | 0.030083852 | 14.56         | **0.68**         | 0.06          | 0.09      | 0.17       | 0.020322355     |\n",
    "|     |             |             |               |              |               |           |            |                 |\n",
    "| 2   | 100         | 0.608814509 | 0.91          | 0.23         | 0.24          | 0.25      | 0.28       |                 |\n",
    "| 2   | 200         | 0.368801831 | 4.43          | 0.56         | 0.13          | 0.17      | 0.14       | 3.868131868     |\n",
    "| 2   | 300         | 0.223409246 | 8.1           | 0.38         | 0.05          | 0.43      | 0.14       | 0.828442438     |\n",
    "| 2   | 400         | 0.135334717 | 10.3          | 0.44         | 0.02          | 0.29      | 0.25       | 0.271604938     |\n",
    "| 2   | 500         | 0.08198177  | 12.84         | **0.74**         | 0.02          | 0.13      | 0.11       | 0.246601942     |\n",
    "| 2   | 600         | 0.049662133 | 14.14         | **0.63**        | 0             | 0.05      | 0.32       | 0.101246106     |\n",
    "| 2   | 700         | 0.030083852 | 15.11         | **0.83**         | 0             | 0.06      | 0.11       | 0.068599717     |\n",
    "|     |             |             |               |              |               |           |            |                 |\n",
    "| 3   | 100         | 0.608814509 | 1.04          | 0.38         | 0.28          | 0.15      | 0.19       |                 |\n",
    "| 3   | 200         | 0.368801831 | 4.55          | 0.39         | 0.15          | 0.25      | 0.21       | 3.375           |\n",
    "| 3   | 300         | 0.223409246 | 8.13          | 0.43         | 0.06          | 0.25      | 0.26       | 0.786813187     |\n",
    "| 3   | 400         | 0.135334717 | 11.18         | 0.06         | 0.04          | **0.44**      | **0.46**       | 0.375153752     |\n",
    "| 3   | 500         | 0.08198177  | 13.64         | **0.54**         | 0.02          | 0.25      | 0.19       | 0.220035778     |\n",
    "| 3   | 600         | 0.049662133 | 14.27         | **0.7**          | 0.01          | 0.17      | 0.12       | 0.046187683     |\n",
    "| 3   | 700         | 0.030083852 | 14.56         | **0.68**         | 0.06          | 0.09      | 0.17       | 0.020322355     |"
   ]
  },
  {
   "cell_type": "markdown",
   "metadata": {},
   "source": [
    "- From the data above, the network after the exploration, it started to have two particolar phenomena:\n",
    "    - **Oscillation** between left and right actions\n",
    "    - **Predominance** of moving forward action with a bit of left and rigth\n",
    "- It seems that the network has some kind of saturation\n",
    "\n",
    "- For example in the first run between the 400 and 500 episodes the network is oscilating in left (0.44) and rigth (0.44) without moving and we loose 15 points in the relative increment (0.37-0.22), while in the run 2 for the same episode we have still left (0.29) and rigth (0.25) but also forward (0.44), so we loose only 3 points in the relative increment (0.27-0.24).\n",
    "\n",
    "- So I decided to add **dropout**  to the local network (the one that the algorithm optimizes) to avoid any saturation phenomena, while I keep the network of the target without any dropout."
   ]
  },
  {
   "cell_type": "code",
   "execution_count": 18,
   "metadata": {},
   "outputs": [
    {
     "data": {
      "image/png": "[encoded data removed]",
      "text/plain": [
       "<Figure size 432x288 with 1 Axes>"
      ]
     },
     "metadata": {
      "needs_background": "light"
     },
     "output_type": "display_data"
    }
   ],
   "source": [
    "import numpy as np\n",
    "import matplotlib.pyplot as plt\n",
    "%matplotlib inline\n",
    "# the resuls with the dropout on the local network are stored in the file scores_2.txt\n",
    "path_scores = '../data/scores_2.txt'\n",
    "with open(path_scores) as f:\n",
    "    array_scores = np.array([float(item) for item in f.readlines()])\n",
    "# plot the scores\n",
    "fig = plt.figure()\n",
    "ax = fig.add_subplot(111)\n",
    "plt.plot(np.arange(len(array_scores)), array_scores)\n",
    "plt.ylabel('Score')\n",
    "plt.xlabel('Episode #')\n",
    "plt.show()"
   ]
  },
  {
   "cell_type": "markdown",
   "metadata": {},
   "source": [
    "- The introduction of the drop out make the learning **slower** and I did **not reach the same target** of previous experiment. \n",
    "- Maybe if I had more hidden layers (more capacity to the model) the dropoutout approach will be more useful\n",
    "- As you can see below the increment score from one group of episodes to the other is quite **low**."
   ]
  },
  {
   "cell_type": "markdown",
   "metadata": {},
   "source": [
    "| episode_num | avg_eps     | average_score | move forward | move backward | turn left | turn right | increment score |\n",
    "|-------------|-------------|---------------|--------------|---------------|-----------|------------|-----------------|\n",
    "| 100         | 0.608814509 | 0.06          | 0.43         | 0.17          | 0.13      | 0.27       |                 |\n",
    "| 200         | 0.368801831 | 1.49          | 0.07         | 0.1           | 0.55      | 0.28       | 23.83333333     |\n",
    "| 300         | 0.223409246 | 3.7           | 0.27         | 0.05          | 0.61      | 0.07       | 1.483221477     |\n",
    "| 400         | 0.135334717 | 7.63          | 0.52         | 0.02          | 0.42      | 0.04       | 1.062162162     |\n",
    "| 500         | 0.08198177  | 9.86          | 0.84         | 0.02          | 0.11      | 0.03       | 0.292267366     |\n",
    "| 600         | 0.049662133 | 10.41         | 0.34         | 0             | 0.34      | 0.32       | 0.055780933     |\n",
    "| 700         | 0.030083852 | 10.34         | 0.66         | 0             | 0.15      | 0.19       | -0.006724304    |\n",
    "| 800         | 0.018223908 | 11.62         | 0.84         | 0.01          | 0.02      | 0.13       | 0.123791103     |\n",
    "| 900         | 0.011039505 | 11.7          | 0.84         | 0             | 0.03      | 0.13       | 0.006884682     |\n",
    "| 1000        | 0.006687406 | 12.81         | 0.86         | 0             | 0.02      | 0.12       | 0.094871795     |\n",
    "| 1100        | 0.004051033 | 11.75         | 0.18         | 0             | 0.37      | 0.45       | -0.082747853    |\n",
    "| 1200        | 0.002453996 | 11.7          | 0.95         | 0             | 0         | 0.05       | -0.004255319    |\n",
    "| 1300        | 0.001486558 | 12.97         | 0.82         | 0             | 0.05      | 0.13       | 0.108547009     |\n",
    "| 1400        | 0.001       | 13.33         | 0.75         | 0             | 0.11      | 0.14       | 0.027756361     |\n",
    "| 1500        | 0.001       | 13.27         | 0.03         | 0             | 0.38      | 0.59       | -0.004501125    |\n",
    "| 1600        | 0.001       | 14.56         | 0.83         | 0             | 0.06      | 0.11       | 0.097211756     |\n",
    "| 1700        | 0.001       | 13.56         | 0.86         | 0             | 0.14      | 0          | -0.068681319    |\n",
    "| 1800        | 0.001       | 13.7          | 0.84         | 0             | 0.12      | 0.04       | 0.010324484     |\n",
    "| 1900        | 0.001       | 13.64         | 0.8          | 0             | 0.07      | 0.13       | -0.004379562    |\n",
    "| 2000        | 0.001       | 13.5          | 0.8          | 0             | 0.12      | 0.08       | -0.01026393     |"
   ]
  },
  {
   "cell_type": "markdown",
   "metadata": {},
   "source": [
    "## Future works:\n",
    "- Change the [Huber-Loss](https://en.wikipedia.org/wiki/Huber_loss) function  as described [in the official Pythorch tutorial](https://pytorch.org/tutorials/intermediate/reinforcement_q_learning.html)\n",
    "- Add the [Dueling DQN](https://arxiv.org/abs/1511.06581) and the [Prioritized Experience Replay](https://arxiv.org/abs/1511.05952) as described in the lesson, to help to sepate the importance of the state from the value of the q functions, and see if this helps to reduce the saturation phenomena described above."
   ]
  },
  {
   "cell_type": "code",
   "execution_count": null,
   "metadata": {},
   "outputs": [],
   "source": []
  }
 ],
 "metadata": {
  "kernelspec": {
   "display_name": "drl_navigation",
   "language": "python",
   "name": "drl_navigation"
  },
  "language_info": {
   "codemirror_mode": {
    "name": "ipython",
    "version": 3
   },
   "file_extension": ".py",
   "mimetype": "text/x-python",
   "name": "python",
   "nbconvert_exporter": "python",
   "pygments_lexer": "ipython3",
   "version": "3.6.3"
  }
 },
 "nbformat": 4,
 "nbformat_minor": 1
}
