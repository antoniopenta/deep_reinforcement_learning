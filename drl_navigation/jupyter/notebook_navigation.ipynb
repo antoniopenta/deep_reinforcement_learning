{
 "cells": [
  {
   "cell_type": "markdown",
   "metadata": {},
   "source": [
    "## Navigation Project"
   ]
  },
  {
   "cell_type": "markdown",
   "metadata": {
    "collapsed": true
   },
   "source": [
    "![](https://user-images.githubusercontent.com/10624937/42135619-d90f2f28-7d12-11e8-8823-82b970a54d7e.gif)\n",
    "\n",
    "- More info about the purpose of the project can be read here : [Udacity Project link](https://github.com/udacity/deep-reinforcement-learning/tree/master/p1_navigation)\n",
    "\n",
    "\n",
    "## Prerequisites\n",
    "\n",
    "- Create a python env as described here: https://github.com/udacity/deep-reinforcement-learning/tree/master/python\n",
    "\n",
    "- Download the project structure here : [github](https://github.com/antoniopenta/deep_reinforcement_learning/tree/master/drl_navigation) \n",
    "\n",
    "- You need to download the unity env Banana at the following link (Mac) and save it (unzipped) in the env folder of the main project:  https://s3-us-west-1.amazonaws.com/udacity-drlnd/P1/Banana/VisualBanana.app.zip\n",
    " \n"
   ]
  },
  {
   "cell_type": "markdown",
   "metadata": {},
   "source": [
    "## Project Structure\n",
    "\n",
    "- The project has these foldes:\n",
    "    - **data**: it contains data that are created during the execution\n",
    "    - **framework**: it contain the code for the agents and the network for learning the Q function\n",
    "    - **env**: where the unity env is store\n",
    "    - **model**: where the checkpoint for the network is saved\n",
    "    - **jupyter**: where the notebook with the explanation is store\n",
    "    \n",
    "     "
   ]
  },
  {
   "cell_type": "markdown",
   "metadata": {},
   "source": [
    "## Scripts to Run \n",
    "\n",
    "- There are two main scripts in the main foler:\n",
    "    - main_script_dq_test.py, which is used to see the agent in action loading the weights of the network that have been learned during the train\n",
    "    - main_script_dq_train.py, which is used to train the agent\n",
    "  \n",
    "    \n",
    "    "
   ]
  },
  {
   "cell_type": "markdown",
   "metadata": {},
   "source": [
    "## Algorithm Explanation\n",
    "\n",
    "- The agent implement the DeepQ-Learning approach with a Reply Buffer mechanism.\n",
    "- The code is similar to the one provided by the exercise.\n",
    "\n"
   ]
  },
  {
   "cell_type": "code",
   "execution_count": 6,
   "metadata": {},
   "outputs": [],
   "source": [
    "#HyperParemeter  for the agent:\n",
    "\n",
    "BUFFER_SIZE = int(1e5)  # replay buffer size\n",
    "BATCH_SIZE = 64         # minibatch size\n",
    "GAMMA = 0.99            # discount factor\n",
    "TAU = 1e-3              # for soft update of target parameters\n",
    "LR = 5e-4               # learning rate \n",
    "UPDATE_EVERY = 4        # how often to update the network\n",
    "\n"
   ]
  },
  {
   "cell_type": "code",
   "execution_count": 7,
   "metadata": {},
   "outputs": [],
   "source": [
    "#HyperParemeter  for the dqlearning algorithm \n",
    "# n_episodes (int): maximum number of training episodes\n",
    "# max_t (int): maximum number of timesteps per episode\n",
    "# eps_start (float): starting value of epsilon, for epsilon-greedy action selection\n",
    "# eps_end (float): minimum value of epsilon\n",
    "# eps_decay (float): multiplicative factor (per episode) for decreasing epsilon\n",
    "# max_score (float): that target score that we would like to reach, the benchmark is 15 in 1700 episode\n",
    "\n",
    "n_episodes = 2000\n",
    "max_t = 1000\n",
    "eps_start = 1.0\n",
    "eps_end = 0.001\n",
    "eps_decay = 0.995\n",
    "max_score = 15"
   ]
  },
  {
   "cell_type": "markdown",
   "metadata": {},
   "source": [
    "- I have target a max score of 15 within 2000 episodes as suggested by the picture in the benchmark explantion"
   ]
  },
  {
   "cell_type": "code",
   "execution_count": 12,
   "metadata": {},
   "outputs": [
    {
     "data": {
      "image/png": "[encoded data removed]",
      "text/plain": [
       "<Figure size 432x288 with 1 Axes>"
      ]
     },
     "metadata": {
      "needs_background": "light"
     },
     "output_type": "display_data"
    }
   ],
   "source": [
    "import numpy as np\n",
    "import matplotlib.pyplot as plt\n",
    "%matplotlib inline\n",
    "#i load only the first run scores, \n",
    "path_scores = '../data/scores_1.txt'\n",
    "with open(path_scores) as f:\n",
    "    array_scores = np.array([float(item) for item in f.readlines()])\n",
    "# plot the scores\n",
    "fig = plt.figure()\n",
    "ax = fig.add_subplot(111)\n",
    "plt.plot(np.arange(len(array_scores)), array_scores)\n",
    "plt.ylabel('Score')\n",
    "plt.xlabel('Episode #')\n",
    "plt.show()"
   ]
  },
  {
   "cell_type": "markdown",
   "metadata": {},
   "source": [
    "- For 3 runs, I have observed the following distribution of actions, and the related increment score, which is the incremenet/descrement of the average score respect to thre previou session"
   ]
  },
  {
   "cell_type": "markdown",
   "metadata": {},
   "source": [
    "| run | episode_num | avg_eps     | average_score | move forward | move backward | turn left | turn right | increment score |\n",
    "|-----|-------------|-------------|---------------|--------------|---------------|-----------|------------|-----------------|\n",
    "| 1   | 100         | 0.608814509 | 1.04          | 0.38         | 0.28          | 0.15      | 0.19       |                 |\n",
    "| 1   | 200         | 0.368801831 | 4.55          | 0.39         | 0.15          | 0.25      | 0.21       | 3.375           |\n",
    "| 1   | 300         | 0.223409246 | 8.13          | 0.43         | 0.06          | 0.25      | 0.26       | 0.786813187     |\n",
    "| 1   | 400         | 0.135334717 | 11.18         | 0.06         | 0.04          | **0.44**      | **0.46**       | 0.375153752     |\n",
    "| 1   | 500         | 0.08198177  | 13.64         | **0.54**         | 0.02          | 0.25      | 0.19       | 0.220035778     |\n",
    "| 1   | 600         | 0.049662133 | 14.27         | **0.7**          | 0.01          | 0.17      | 0.12       | 0.046187683     |\n",
    "| 1   | 700         | 0.030083852 | 14.56         | **0.68**         | 0.06          | 0.09      | 0.17       | 0.020322355     |\n",
    "|     |             |             |               |              |               |           |            |                 |\n",
    "| 2   | 100         | 0.608814509 | 0.91          | 0.23         | 0.24          | 0.25      | 0.28       |                 |\n",
    "| 2   | 200         | 0.368801831 | 4.43          | 0.56         | 0.13          | 0.17      | 0.14       | 3.868131868     |\n",
    "| 2   | 300         | 0.223409246 | 8.1           | 0.38         | 0.05          | 0.43      | 0.14       | 0.828442438     |\n",
    "| 2   | 400         | 0.135334717 | 10.3          | 0.44         | 0.02          | **0.29**      | **0.25**       | 0.271604938     |\n",
    "| 2   | 500         | 0.08198177  | 12.84         | **0.74**         | 0.02          | 0.13      | 0.11       | 0.246601942     |\n",
    "| 2   | 600         | 0.049662133 | 14.14         | **0.63**        | 0             | 0.05      | 0.32       | 0.101246106     |\n",
    "| 2   | 700         | 0.030083852 | 15.11         | **0.83**         | 0             | 0.06      | 0.11       | 0.068599717     |\n",
    "|     |             |             |               |              |               |           |            |                 |\n",
    "| 3   | 100         | 0.608814509 | 1.04          | 0.38         | 0.28          | 0.15      | 0.19       |                 |\n",
    "| 3   | 200         | 0.368801831 | 4.55          | 0.39         | 0.15          | 0.25      | 0.21       | 3.375           |\n",
    "| 3   | 300         | 0.223409246 | 8.13          | 0.43         | 0.06          | 0.25      | 0.26       | 0.786813187     |\n",
    "| 3   | 400         | 0.135334717 | 11.18         | 0.06         | 0.04          | **0.44**      | **0.46**       | 0.375153752     |\n",
    "| 3   | 500         | 0.08198177  | 13.64         | **0.54**         | 0.02          | 0.25      | 0.19       | 0.220035778     |\n",
    "| 3   | 600         | 0.049662133 | 14.27         | **0.7**          | 0.01          | 0.17      | 0.12       | 0.046187683     |\n",
    "| 3   | 700         | 0.030083852 | 14.56         | **0.68**         | 0.06          | 0.09      | 0.17       | 0.020322355     |"
   ]
  },
  {
   "cell_type": "markdown",
   "metadata": {},
   "source": [
    "- From the data above, the network after the exploration, it started to have two particolar phenomena:\n",
    "    - **Oscillation** between left and right actions\n",
    "    - **Predominance** of moving forward action\n",
    "- It seems that the network has some kind of saturation\n",
    "\n",
    "- So I decided to add **dropout**  to the network to avoid any saturation phenomena"
   ]
  },
  {
   "cell_type": "markdown",
   "metadata": {},
   "source": [
    "## Future works:\n",
    "- Change the [Huber-Loss](https://en.wikipedia.org/wiki/Huber_loss) function  as described [in the official Pythorch tutorial](https://pytorch.org/tutorials/intermediate/reinforcement_q_learning.html)\n",
    "- Add the [Dueling DQN](https://arxiv.org/abs/1511.06581) as described in the lesson, to help to sepate the importance of the state from the value of the q functions, and see if this helps to reduce the phenomena described above."
   ]
  },
  {
   "cell_type": "code",
   "execution_count": null,
   "metadata": {},
   "outputs": [],
   "source": []
  }
 ],
 "metadata": {
  "kernelspec": {
   "display_name": "drl_navigation",
   "language": "python",
   "name": "drl_navigation"
  },
  "language_info": {
   "codemirror_mode": {
    "name": "ipython",
    "version": 3
   },
   "file_extension": ".py",
   "mimetype": "text/x-python",
   "name": "python",
   "nbconvert_exporter": "python",
   "pygments_lexer": "ipython3",
   "version": "3.6.3"
  }
 },
 "nbformat": 4,
 "nbformat_minor": 1
}
