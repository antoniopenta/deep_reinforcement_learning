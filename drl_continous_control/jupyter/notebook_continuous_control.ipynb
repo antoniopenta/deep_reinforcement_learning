{
 "cells": [
  {
   "cell_type": "markdown",
   "metadata": {},
   "source": [
    "## Continuous Control Project"
   ]
  },
  {
   "cell_type": "markdown",
   "metadata": {
    "collapsed": true
   },
   "source": [
    "![](https://user-images.githubusercontent.com/10624937/43851024-320ba930-9aff-11e8-8493-ee547c6af349.gif)\n",
    "\n",
    "- More info about the purpose of the project can be read here : [Udacity Project link](https://github.com/udacity/deep-reinforcement-learning/tree/master/p2_continuous-control)\n",
    "\n",
    "\n",
    "## Prerequisites\n",
    "\n",
    "- Create a python env as described here: https://github.com/udacity/deep-reinforcement-learning/tree/master/python\n",
    "\n",
    "- Download the project structure here : [github](https://github.com/antoniopenta/deep_reinforcement_learning/tree/master/drl_continous_control)\n",
    "\n",
    "- The Reacher with 20 agents has been choosen.\n",
    "\n",
    "- You need to download the unity env Reacher at the following link (Mac) and save it (unzipped) in the env folder of the main project: https://s3-us-west-1.amazonaws.com/udacity-drlnd/P2/Reacher/Reacher.app.zip\n",
    "\n",
    "\n",
    "- **AWS configuration**, the code has been runned on the AWS instance using GPU.\n",
    "    - To AWS instance (p2.xlarge) is the Deep Learning AMI with Source Code (CUDA 8, Ubuntu) (you can search it on the AWS Marketplace). I have used the credit from the Udacity course.\n",
    "    -  The configuration is well explained in the extrac curriculm activities (you can find notes with more details in aws.txt file saved within this repository).\n",
    "\n",
    "- For AWS, the unity env can be downloaded [here](https://s3-us-west-1.amazonaws.com/udacity-drlnd/P2/Reacher/Reacher_Linux_NoVis.zip), You will not be able to watch the agent without enabling a virtual screen, but you will be able to train the agent.\n",
    "    \n",
    " \n"
   ]
  },
  {
   "cell_type": "markdown",
   "metadata": {},
   "source": [
    "## Project Structure\n",
    "\n",
    "- The project has these foldes:\n",
    "    - **data**: it contains data that are created during the execution\n",
    "    - **framework**: it contain the code for the agents and the network for learning the Q function\n",
    "    - **env**: where the unity env is store\n",
    "    - **model**: where the checkpoint for the network is saved\n",
    "    - **jupyter**: where the notebook with the explanation is store\n",
    "    \n",
    "     "
   ]
  },
  {
   "cell_type": "markdown",
   "metadata": {},
   "source": [
    "## Problem Description\n",
    "This project uses **Reacher** Unity environment. \n",
    "\n",
    "- In this environment, a double-jointed arm can move to target locations. \n",
    "- A reward of +0.1 is provided for each step that the agent's hand is in the goal location. Thus, the goal of your agent is to maintain its position at the target location for as many time steps as possible.\n",
    "- The observation space consists of 33 variables corresponding to position, rotation, velocity, and angular velocities of the arm. Each action is a vector with four numbers, corresponding to torque applicable to two joints. Every entry in the action vector should be a number between -1 and 1.\n",
    "- The task is episodic. \n",
    "\n",
    "- In udacity, it is declared that in order to solve the environment, the agent must get an average score of +30 over 100 consecutive episodes.\n",
    "- In an optimal situation, an  agent to collect +30 during an episode means that he has to behave correctely at least in 300 subsequent events.\n",
    "- The average length of an episode in this env is 1000.\n"
   ]
  },
  {
   "cell_type": "markdown",
   "metadata": {},
   "source": [
    "## Algorithm Explanation\n",
    "- The RL algorithm is Deep Deterministic Policy Gradient (DDPG), which is based on the Policy Gradient approach.\n",
    "- The core idea of the algorithm is described in the Udacity videos [video1](https://youtu.be/0NVOPIyrr98) [video2](https://youtu.be/RT-HDnAVe9o)\n",
    "- The algorithm is using the Actor-Critic approach. \n",
    "- The Actor is a Neural Network that approximates a deterministic policy. It takes in input the state and the output is an array of values, one for each action.\n",
    "- The Actor is used to approximate the policy ($\\pi(a\\mid s;\\theta_\\pi)$).\n",
    "- In DDPG, the output is deterministic, and it represents the policy value the action space. The outputs are values in the range [-1,1]\n",
    "- The Critic is used to give feedback about the value of the input state observed by the actor and the action considered in the actor.\n",
    "- Both Actor and Critic have a target and regular networks. The target network is used to define the desired target, avoiding to have the same network for considering the prediction and the target. This is the same idea used in the DQN algorithm.\n",
    "- In the DDPG algorithm, there is a soft update approach, which means that the target network is updated more often but with a smaller change.\n",
    "- The DDPG is a policy gradient algorithm, this kind of algorithms suffers from having large variance, due to their Monte Carlo approach in computing the cumulative reword.\n",
    "- To reduce the variance, a Temporal Difference approach is used together with bootstrapping, this approach reduces the variance but introduce a bias.\n",
    "- The exploration of the action space is done by injecting the noise in the last layer of the Actor Network."
   ]
  },
  {
   "cell_type": "markdown",
   "metadata": {},
   "source": [
    "## DDPG code\n",
    "- The code is based on the (udacity version)[https://github.com/udacity/deep-reinforcement-learning/tree/master/ddpg-bipedal]\n",
    "- with the following modification:\n",
    "     - **repating the learning steps** multiple times after sampling the buffer\n",
    "     - **gradient clip** for critic has suggested in the course (torch.nn.utils.clip_grad_norm_(self.critic_local.parameters(), 1))\n",
    "     - **shared buffer/networks**, all the agents share the same buffer/networks."
   ]
  },
  {
   "cell_type": "markdown",
   "metadata": {},
   "source": [
    "## Scripts to Run \n",
    "\n",
    "- There are two main scripts in the main foler:\n",
    "    - main_script_ddpg_test.py, which is used to see the agent in action loading the weights of the network that have been learned during the train\n",
    "    - main_script_ddpg_train.py, which is used to train the agent"
   ]
  },
  {
   "cell_type": "markdown",
   "metadata": {},
   "source": [
    "- Example of output when you run the main_script_dq_train.py :\n",
    "\n",
    "```sh\n",
    "/Users/antonio.penta/Documents/virtualenv/drl_cont_control/bin/python /Users/antonio.penta/Documents/workspace/python/deep_reinforcement_learning/drl_continous_control/main_script_ddpg_train.py\n",
    "Mono path[0] = '/Users/antonio.penta/Documents/workspace/python/deep_reinforcement_learning/drl_continous_control/env/Reacher.app/Contents/Resources/Data/Managed'\n",
    "Mono config path = '/Users/antonio.penta/Documents/workspace/python/deep_reinforcement_learning/drl_continous_control/env/Reacher.app/Contents/MonoBleedingEdge/etc'\n",
    "INFO:unityagents:\n",
    "'Academy' started successfully!\n",
    "Unity Academy name: Academy\n",
    "        Number of Brains: 1\n",
    "        Number of External Brains : 1\n",
    "        Lesson number : 0\n",
    "        Reset Parameters :\n",
    "\t\tgoal_speed -> 1.0\n",
    "\t\tgoal_size -> 5.0\n",
    "Unity brain name: ReacherBrain\n",
    "        Number of Visual Observations (per agent): 0\n",
    "        Vector Observation space type: continuous\n",
    "        Vector Observation space size (per agent): 33\n",
    "        Number of stacked Vector Observation: 1\n",
    "        Vector Action space type: continuous\n",
    "        Vector Action space size (per agent): 4\n",
    "        Vector Action descriptions: , , , \n",
    "Number of agents: 20\n",
    "Size of each action: 4\n",
    "There are 20 agents. Each observes a state with length: 33\n",
    "The state for the first agent looks like: [ 0.00000000e+00 -4.00000000e+00  0.00000000e+00  1.00000000e+00\n",
    " -0.00000000e+00 -0.00000000e+00 -4.37113883e-08  0.00000000e+00\n",
    "  0.00000000e+00  0.00000000e+00  0.00000000e+00  0.00000000e+00\n",
    "  0.00000000e+00  0.00000000e+00 -1.00000000e+01  0.00000000e+00\n",
    "  1.00000000e+00 -0.00000000e+00 -0.00000000e+00 -4.37113883e-08\n",
    "  0.00000000e+00  0.00000000e+00  0.00000000e+00  0.00000000e+00\n",
    "  0.00000000e+00  0.00000000e+00  5.75471878e+00 -1.00000000e+00\n",
    "  5.55726624e+00  0.00000000e+00  1.00000000e+00  0.00000000e+00\n",
    " -1.68164849e-01]\n",
    "Initialising ReplayBuffer\n",
    "Episode 1\tScore: 0.94\tAverage Score: 0.94\n",
    "Episode 2\tScore: 0.99\tAverage Score: 0.97\n",
    "Episode 3\tScore: 1.57\tAverage Score: 1.17\n",
    "Episode 4\tScore: 2.45\tAverage Score: 1.49\n",
    "Episode 5\tScore: 3.28\tAverage Score: 1.85\n",
    "Episode 6\tScore: 3.42\tAverage Score: 2.11\n",
    "Episode 7\tScore: 4.21\tAverage Score: 2.41\n",
    "Episode 8\tScore: 5.23\tAverage Score: 2.76\n",
    "Episode 9\tScore: 6.14\tAverage Score: 3.14\n",
    "Episode 10\tScore: 6.39\tAverage Score: 3.46\n",
    "Episode 11\tScore: 7.62\tAverage Score: 3.84\n",
    "Episode 12\tScore: 7.75\tAverage Score: 4.16\n",
    "Episode 13\tScore: 7.21\tAverage Score: 4.40\n",
    "Episode 14\tScore: 8.27\tAverage Score: 4.68\n",
    "Episode 15\tScore: 8.55\tAverage Score: 4.93\n",
    "Episode 16\tScore: 9.31\tAverage Score: 5.21\n",
    "Episode 17\tScore: 10.85\tAverage Score: 5.54\n",
    "Episode 18\tScore: 11.73\tAverage Score: 5.88\n",
    "Episode 19\tScore: 12.10\tAverage Score: 6.21\n",
    "Episode 20\tScore: 12.34\tAverage Score: 6.52\n",
    "Episode 21\tScore: 17.17\tAverage Score: 7.02\n",
    "Episode 22\tScore: 15.81\tAverage Score: 7.42\n",
    "Episode 23\tScore: 17.05\tAverage Score: 7.84\n",
    "Episode 24\tScore: 18.43\tAverage Score: 8.28\n",
    "Episode 25\tScore: 19.31\tAverage Score: 8.72\n",
    "Episode 26\tScore: 20.27\tAverage Score: 9.17\n",
    "Episode 27\tScore: 24.57\tAverage Score: 9.74\n",
    "Episode 28\tScore: 26.37\tAverage Score: 10.33\n",
    "Episode 29\tScore: 25.97\tAverage Score: 10.87\n",
    "Episode 30\tScore: 27.43\tAverage Score: 11.42\n",
    "Episode 31\tScore: 27.79\tAverage Score: 11.95\n",
    "Episode 32\tScore: 28.92\tAverage Score: 12.48\n",
    "Episode 33\tScore: 30.60\tAverage Score: 13.03\n",
    "Episode 34\tScore: 30.32\tAverage Score: 13.54\n",
    "Episode 35\tScore: 29.59\tAverage Score: 14.00\n",
    "Episode 36\tScore: 31.34\tAverage Score: 14.48\n",
    "Episode 37\tScore: 32.42\tAverage Score: 14.97\n",
    "Episode 38\tScore: 30.49\tAverage Score: 15.37\n",
    "Episode 39\tScore: 31.13\tAverage Score: 15.78\n",
    "Episode 40\tScore: 30.93\tAverage Score: 16.16\n",
    "Episode 41\tScore: 29.33\tAverage Score: 16.48\n",
    "Episode 42\tScore: 32.21\tAverage Score: 16.85\n",
    "Episode 43\tScore: 32.66\tAverage Score: 17.22\n",
    "Episode 44\tScore: 30.89\tAverage Score: 17.53\n",
    "Episode 45\tScore: 30.58\tAverage Score: 17.82\n",
    "Episode 46\tScore: 31.28\tAverage Score: 18.11\n",
    "Episode 47\tScore: 32.28\tAverage Score: 18.41\n",
    "Episode 48\tScore: 32.79\tAverage Score: 18.71\n",
    "Episode 49\tScore: 32.04\tAverage Score: 18.99\n",
    "Episode 50\tScore: 33.36\tAverage Score: 19.27\n",
    "Episode 51\tScore: 32.52\tAverage Score: 19.53\n",
    "Episode 52\tScore: 32.93\tAverage Score: 19.79\n",
    "Episode 53\tScore: 32.49\tAverage Score: 20.03\n",
    "Episode 54\tScore: 33.08\tAverage Score: 20.27\n",
    "Episode 55\tScore: 33.32\tAverage Score: 20.51\n",
    "Episode 56\tScore: 34.46\tAverage Score: 20.76\n",
    "Episode 57\tScore: 35.38\tAverage Score: 21.01\n",
    "Episode 58\tScore: 33.69\tAverage Score: 21.23\n",
    "Episode 59\tScore: 34.01\tAverage Score: 21.45\n",
    "Episode 60\tScore: 34.74\tAverage Score: 21.67\n",
    "Episode 61\tScore: 34.39\tAverage Score: 21.88\n",
    "Episode 62\tScore: 33.43\tAverage Score: 22.07\n",
    "Episode 63\tScore: 33.93\tAverage Score: 22.25\n",
    "Episode 64\tScore: 34.34\tAverage Score: 22.44\n",
    "Episode 65\tScore: 33.77\tAverage Score: 22.62\n",
    "Episode 66\tScore: 33.34\tAverage Score: 22.78\n",
    "Episode 67\tScore: 32.98\tAverage Score: 22.93\n",
    "Episode 68\tScore: 32.39\tAverage Score: 23.07\n",
    "Episode 69\tScore: 32.79\tAverage Score: 23.21\n",
    "Episode 70\tScore: 31.55\tAverage Score: 23.33\n",
    "Episode 71\tScore: 32.79\tAverage Score: 23.46\n",
    "Episode 72\tScore: 33.43\tAverage Score: 23.60\n",
    "Episode 73\tScore: 32.29\tAverage Score: 23.72\n",
    "Episode 74\tScore: 31.69\tAverage Score: 23.83\n",
    "Episode 75\tScore: 30.76\tAverage Score: 23.92\n",
    "Episode 76\tScore: 32.01\tAverage Score: 24.03\n",
    "Episode 77\tScore: 32.72\tAverage Score: 24.14\n",
    "Episode 78\tScore: 32.20\tAverage Score: 24.25\n",
    "Episode 79\tScore: 29.92\tAverage Score: 24.32\n",
    "Episode 80\tScore: 31.25\tAverage Score: 24.40\n",
    "Episode 81\tScore: 32.25\tAverage Score: 24.50\n",
    "Episode 82\tScore: 31.40\tAverage Score: 24.58\n",
    "Episode 83\tScore: 31.38\tAverage Score: 24.67\n",
    "Episode 84\tScore: 30.49\tAverage Score: 24.74\n",
    "Episode 85\tScore: 30.18\tAverage Score: 24.80\n",
    "Episode 86\tScore: 32.21\tAverage Score: 24.89\n",
    "Episode 87\tScore: 30.53\tAverage Score: 24.95\n",
    "Episode 88\tScore: 29.71\tAverage Score: 25.01\n",
    "Episode 89\tScore: 28.02\tAverage Score: 25.04\n",
    "Episode 90\tScore: 29.48\tAverage Score: 25.09\n",
    "Episode 91\tScore: 29.90\tAverage Score: 25.14\n",
    "Episode 92\tScore: 27.51\tAverage Score: 25.17\n",
    "Episode 93\tScore: 26.96\tAverage Score: 25.19\n",
    "Episode 94\tScore: 27.90\tAverage Score: 25.22\n",
    "Episode 95\tScore: 29.38\tAverage Score: 25.26\n",
    "Episode 96\tScore: 30.32\tAverage Score: 25.31\n",
    "Episode 97\tScore: 29.50\tAverage Score: 25.35\n",
    "Episode 98\tScore: 29.41\tAverage Score: 25.40\n",
    "Episode 99\tScore: 28.11\tAverage Score: 25.42\n",
    "Episode 100\tScore: 28.54\tAverage Score: 25.45\n",
    "Episode 101\tScore: 29.36\tAverage Score: 25.74\n",
    "Episode 102\tScore: 28.62\tAverage Score: 26.02\n",
    "Episode 103\tScore: 29.88\tAverage Score: 26.30\n",
    "Episode 104\tScore: 28.51\tAverage Score: 26.56\n",
    "Episode 105\tScore: 28.68\tAverage Score: 26.81\n",
    "Episode 106\tScore: 28.24\tAverage Score: 27.06\n",
    "Episode 107\tScore: 28.64\tAverage Score: 27.31\n",
    "Episode 108\tScore: 28.53\tAverage Score: 27.54\n",
    "Episode 109\tScore: 28.35\tAverage Score: 27.76\n",
    "Episode 110\tScore: 29.26\tAverage Score: 27.99\n",
    "Episode 111\tScore: 27.37\tAverage Score: 28.19\n",
    "Episode 112\tScore: 28.30\tAverage Score: 28.39\n",
    "Episode 113\tScore: 30.54\tAverage Score: 28.63\n",
    "Episode 114\tScore: 29.79\tAverage Score: 28.84\n",
    "Episode 115\tScore: 29.59\tAverage Score: 29.05\n",
    "Episode 116\tScore: 30.73\tAverage Score: 29.27\n",
    "Episode 117\tScore: 30.28\tAverage Score: 29.46\n",
    "Episode 118\tScore: 30.20\tAverage Score: 29.64\n",
    "Episode 119\tScore: 27.08\tAverage Score: 29.79\n",
    "Episode 120\tScore: 29.04\tAverage Score: 29.96\n",
    "Episode 121\tScore: 29.50\tAverage Score: 30.08\n",
    "\n",
    "Environment solved in 21 episodes!\tAverage Score: 30.08\n",
    "```"
   ]
  },
  {
   "cell_type": "markdown",
   "metadata": {},
   "source": [
    "## HyperParameters"
   ]
  },
  {
   "cell_type": "code",
   "execution_count": 11,
   "metadata": {},
   "outputs": [],
   "source": [
    "#HyperParemeter Configuration for the Agent\n",
    "#fc1_units=256, fc2_units=128  for actor\n",
    "#fc1_units=256, fc2_units=128  for critic\n",
    "BUFFER_SIZE = int(1e6)  # replay buffer size\n",
    "BATCH_SIZE = 128         # minibatch size\n",
    "GAMMA = 0.99            # discount factor\n",
    "TAU = 1e-3              # for soft update of target parameters\n",
    "LR_ACTOR = 1e-4         # learning rate of the actor\n",
    "LR_CRITIC = 1e-4        # learning rate of the critic\n",
    "WEIGHT_DECAY = 0.0      # L2 weight decay\n",
    "\n",
    "N_LEARN_UPDATES = 10     # number of learning updates\n",
    "N_TIME_STEPS = 20       # every n time step do update\n"
   ]
  },
  {
   "cell_type": "markdown",
   "metadata": {},
   "source": [
    "## Analysis/Final Results\n",
    "- I have observed a **good improvement** in the average score, if I use the **ReLU** activation in the critic instead of the **Leaky ReLU**\n",
    "- I have also read that **noise** has an important impact in the performances.\n",
    "\n",
    "- I think that the results are strongly correlated with the divercity of samples within the buffer,so the addition of prioritized experience replay sampling and importance-sampling (as in the DQN) should be very helpful.  This is also well described in this [video](https://www.youtube.com/watch?v=L6xaQ501jEs&t=3118s)"
   ]
  },
  {
   "cell_type": "code",
   "execution_count": 12,
   "metadata": {},
   "outputs": [
    {
     "data": {
      "image/png": "[encoded data removed]",
      "text/plain": [
       "<Figure size 432x288 with 1 Axes>"
      ]
     },
     "metadata": {
      "needs_background": "light"
     },
     "output_type": "display_data"
    }
   ],
   "source": [
    "import numpy as np\n",
    "import matplotlib.pyplot as plt\n",
    "import pylab\n",
    "%matplotlib inline\n",
    "#i load only the first run scores, \n",
    "path_scores = '../data/scores_relu.txt'\n",
    "with open(path_scores) as f:\n",
    "    array_scores_relu = np.array([float(item) for item in f.readlines()])\n",
    "\n",
    "path_scores = '../data/scores_leaky_relu.txt'\n",
    "with open(path_scores) as f:\n",
    "    array_scores_leaky_relu = np.array([float(item) for item in f.readlines()])\n",
    "\n",
    "# plot the scores\n",
    "fig = plt.figure()\n",
    "ax = fig.add_subplot(111)\n",
    "plt.plot(np.arange(len(array_scores_relu)), array_scores_relu,label='relu')\n",
    "plt.plot(np.arange(len(array_scores_leaky_relu)), array_scores_leaky_relu,label='leaky_relu')\n",
    "plt.ylabel('Score')\n",
    "plt.xlabel('Episode #')\n",
    "pylab.legend(loc='upper left')\n",
    "plt.show()"
   ]
  },
  {
   "cell_type": "markdown",
   "metadata": {},
   "source": [
    "## MODEL\n",
    "- The model (**checkpoint_actor_1.pth**,**checkpoint_critic_1.pth**) with the final results is stored in the model folder"
   ]
  },
  {
   "cell_type": "markdown",
   "metadata": {},
   "source": [
    "## Video\n",
    "- Video with Agent in action : https://youtu.be/ryAWEyv8bm4"
   ]
  },
  {
   "cell_type": "markdown",
   "metadata": {},
   "source": [
    "## Future works:\n",
    "- Use different algorithm like [Raimbow](https://arxiv.org/abs/1710.02298)\n",
    "- Change the approach for action exploration using [OpenAI approach](https://blog.openai.com/better-exploration-with-parameter-noise/) or noise netoworks as explanined [here](https://youtu.be/L6xaQ501jEs?t=3046)"
   ]
  },
  {
   "cell_type": "code",
   "execution_count": null,
   "metadata": {},
   "outputs": [],
   "source": []
  }
 ],
 "metadata": {
  "kernelspec": {
   "display_name": "drl_navigation",
   "language": "python",
   "name": "drl_navigation"
  },
  "language_info": {
   "codemirror_mode": {
    "name": "ipython",
    "version": 3
   },
   "file_extension": ".py",
   "mimetype": "text/x-python",
   "name": "python",
   "nbconvert_exporter": "python",
   "pygments_lexer": "ipython3",
   "version": "3.6.3"
  }
 },
 "nbformat": 4,
 "nbformat_minor": 1
}
